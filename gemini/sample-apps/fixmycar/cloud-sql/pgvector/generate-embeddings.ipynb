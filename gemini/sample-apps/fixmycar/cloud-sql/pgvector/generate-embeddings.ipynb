{
 "cells": [
  {
   "cell_type": "markdown",
   "metadata": {},
   "source": [
    "## Generate Owner's Manual Text Embeddings for Cloud SQL\n",
    "\n",
    "Megan O'Keefe, 2024"
   ]
  },
  {
   "cell_type": "code",
   "execution_count": null,
   "metadata": {},
   "outputs": [],
   "source": [
    "import pdfplumber\n",
    "from langchain.text_splitter import RecursiveCharacterTextSplitter\n",
    "import pandas as pd\n",
    "import nltk\n",
    "from google.cloud import aiplatform\n",
    "import vertexai\n",
    "from vertexai.language_models import TextEmbeddingModel\n",
    "\n",
    "nltk.download(\"punkt\")"
   ]
  },
  {
   "cell_type": "code",
   "execution_count": 4,
   "metadata": {},
   "outputs": [],
   "source": [
    "# Set to your project and location\n",
    "PROJECT_ID = \"your-project-id\"\n",
    "REGION = \"us-central1\"  # change region as needed\n",
    "MODEL = \"textembedding-gecko@003\"  # change model as needed"
   ]
  },
  {
   "cell_type": "code",
   "execution_count": null,
   "metadata": {},
   "outputs": [],
   "source": [
    "vertexai.init(project=PROJECT_ID)"
   ]
  },
  {
   "cell_type": "code",
   "execution_count": 5,
   "metadata": {},
   "outputs": [],
   "source": [
    "def text_embedding(doc) -> list:\n",
    "    model = TextEmbeddingModel.from_pretrained(MODEL)\n",
    "    embeddings = model.get_embeddings([doc])\n",
    "    if len(embeddings) > 1:\n",
    "        raise ValueError(\"More than one embedding returned.\")\n",
    "    if len(embeddings) == 0:\n",
    "        raise ValueError(\"No embedding returned.\")\n",
    "    return embeddings[0].values"
   ]
  },
  {
   "cell_type": "code",
   "execution_count": null,
   "metadata": {},
   "outputs": [],
   "source": [
    "# OCR and chunk PDF\n",
    "page_texts = []\n",
    "with pdfplumber.open(\"../../manuals/cymbal-starlight-2024.pdf\") as pdf:\n",
    "    for page in pdf.pages:\n",
    "        text = page.extract_text()\n",
    "        page_texts.append(text)\n",
    "for i in range(0, len(page_texts)):\n",
    "    # remove newlines and empty lines\n",
    "    p = page_texts[i]\n",
    "    p = p.replace(\"\\n\", \" \")\n",
    "    p = p.replace(\"- \", \"\")\n",
    "    page_texts[i] = p\n",
    "print(page_texts[2])"
   ]
  },
  {
   "cell_type": "code",
   "execution_count": 10,
   "metadata": {},
   "outputs": [],
   "source": [
    "text_splitter = RecursiveCharacterTextSplitter(\n",
    "    chunk_size=450,\n",
    "    chunk_overlap=20,\n",
    "    length_function=len,\n",
    "    is_separator_regex=False,\n",
    ")\n",
    "chunks = []\n",
    "fn = \"Cymbal Starlight 2024 \"\n",
    "for p in page_texts:\n",
    "    spl = text_splitter.split_text(p)\n",
    "    for s in spl:\n",
    "        s = fn + \" \" + s\n",
    "        chunks.append(s)"
   ]
  },
  {
   "cell_type": "code",
   "execution_count": null,
   "metadata": {},
   "outputs": [],
   "source": [
    "len(chunks)"
   ]
  },
  {
   "cell_type": "code",
   "execution_count": null,
   "metadata": {},
   "outputs": [],
   "source": [
    "# Generate embeddings for each text chunk, store in dictionary\n",
    "embeddings_dict = {}\n",
    "for i in range(0, len(chunks)):\n",
    "    c = chunks[i]\n",
    "    # log progress\n",
    "    if i % 10 == 0:\n",
    "        print(i)\n",
    "    e = text_embedding(c)\n",
    "    embeddings_dict[c] = e"
   ]
  },
  {
   "cell_type": "code",
   "execution_count": null,
   "metadata": {},
   "outputs": [],
   "source": [
    "df = pd.DataFrame(list(embeddings_dict.items()), columns=[\"name\", \"embedding\"])\n",
    "df.head()"
   ]
  },
  {
   "cell_type": "code",
   "execution_count": 15,
   "metadata": {},
   "outputs": [],
   "source": [
    "df.to_csv(\"cymbal-starlight-2024.csv\", index=False)"
   ]
  }
 ],
 "metadata": {
  "kernelspec": {
   "display_name": "pgvector",
   "language": "python",
   "name": "python3"
  },
  "language_info": {
   "codemirror_mode": {
    "name": "ipython",
    "version": 3
   },
   "file_extension": ".py",
   "mimetype": "text/x-python",
   "name": "python",
   "nbconvert_exporter": "python",
   "pygments_lexer": "ipython3",
   "version": "3.12.2"
  }
 },
 "nbformat": 4,
 "nbformat_minor": 2
}
