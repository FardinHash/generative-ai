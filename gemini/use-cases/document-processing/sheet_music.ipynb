{
 "cells": [
  {
   "cell_type": "code",
   "execution_count": null,
   "metadata": {
    "id": "ijGzTHJJUCPY"
   },
   "outputs": [],
   "source": [
    "# Copyright 2024 Google LLC\n",
    "#\n",
    "# Licensed under the Apache License, Version 2.0 (the \"License\");\n",
    "# you may not use this file except in compliance with the License.\n",
    "# You may obtain a copy of the License at\n",
    "#\n",
    "#     https://www.apache.org/licenses/LICENSE-2.0\n",
    "#\n",
    "# Unless required by applicable law or agreed to in writing, software\n",
    "# distributed under the License is distributed on an \"AS IS\" BASIS,\n",
    "# WITHOUT WARRANTIES OR CONDITIONS OF ANY KIND, either express or implied.\n",
    "# See the License for the specific language governing permissions and\n",
    "# limitations under the License."
   ]
  },
  {
   "cell_type": "markdown",
   "metadata": {
    "id": "VEqbX8OhE8y9"
   },
   "source": [
    "# Sheet Music Analysis with Gemini\n",
    "\n",
    "<table align=\"left\">\n",
    "  <td style=\"text-align: center\">\n",
    "    <a href=\"https://colab.research.google.com/github/GoogleCloudPlatform/generative-ai/blob/main/gemini/use-cases/document-processing/sheet_music.ipynb\">\n",
    "      <img src=\"https://cloud.google.com/ml-engine/images/colab-logo-32px.png\" alt=\"Google Colaboratory logo\"><br> Run in Colab\n",
    "    </a>\n",
    "  </td>\n",
    "  <td style=\"text-align: center\">\n",
    "    <a href=\"https://console.cloud.google.com/vertex-ai/colab/import/https:%2F%2Fraw.githubusercontent.com%2FGoogleCloudPlatform%2Fgenerative-ai%2Fmain%2Fgemini%2Fuse-cases%2Fdocument-processing%2Fsheet_music.ipynb\">\n",
    "      <img width=\"32px\" src=\"https://lh3.googleusercontent.com/JmcxdQi-qOpctIvWKgPtrzZdJJK-J3sWE1RsfjZNwshCFgE_9fULcNpuXYTilIR2hjwN\" alt=\"Google Cloud Colab Enterprise logo\"><br> Run in Colab Enterprise\n",
    "    </a>\n",
    "  </td>       \n",
    "  <td style=\"text-align: center\">\n",
    "    <a href=\"https://github.com/GoogleCloudPlatform/generative-ai/blob/main/gemini/use-cases/document-processing/sheet_music.ipynb\">\n",
    "      <img src=\"https://cloud.google.com/ml-engine/images/github-logo-32px.png\" alt=\"GitHub logo\"><br> View on GitHub\n",
    "    </a>\n",
    "  </td>\n",
    "  <td style=\"text-align: center\">\n",
    "    <a href=\"https://console.cloud.google.com/vertex-ai/workbench/deploy-notebook?download_url=https://raw.githubusercontent.com/GoogleCloudPlatform/generative-ai/main/gemini/use-cases/document-processing/sheet_music.ipynb\">\n",
    "      <img src=\"https://lh3.googleusercontent.com/UiNooY4LUgW_oTvpsNhPpQzsstV5W8F7rYgxgGBD85cWJoLmrOzhVs_ksK_vgx40SHs7jCqkTkCk=e14-rj-sc0xffffff-h130-w32\" alt=\"Vertex AI logo\"><br> Open in Vertex AI Workbench\n",
    "    </a>\n",
    "  </td>\n",
    "</table>\n"
   ]
  },
  {
   "cell_type": "markdown",
   "metadata": {},
   "source": [
    "| | |\n",
    "|-|-|\n",
    "|Author(s) | [Holt Skinner](https://github.com/holtskinner) |"
   ]
  },
  {
   "cell_type": "markdown",
   "metadata": {
    "id": "CkHPv2myT2cx"
   },
   "source": [
    "## Overview\n",
    "\n",
    "[Sheet Music](https://en.wikipedia.org/wiki/Sheet_music) is the primary form of music notation used by composers and performers across the world. These pages contain information about the lyrics, pitches, rhythms, composer, text author, composition date, among others.\n",
    "\n",
    "This notebook illustrates using Gemini to extract this metadata from sheet music PDFs.\n",
    "\n",
    "These prompts and documents were demonstrated in the Google Cloud Next 2024 session \"What's next with Gemini: Driving business impact with multimodal use cases\".\n"
   ]
  },
  {
   "cell_type": "markdown",
   "metadata": {
    "id": "r11Gu7qNgx1p"
   },
   "source": [
    "## Getting Started\n"
   ]
  },
  {
   "cell_type": "markdown",
   "metadata": {
    "id": "No17Cw5hgx12"
   },
   "source": [
    "### Install Vertex AI SDK for Python"
   ]
  },
  {
   "cell_type": "code",
   "execution_count": null,
   "metadata": {
    "id": "tFy3H3aPgx12",
    "tags": []
   },
   "outputs": [],
   "source": [
    "%pip install --upgrade --user -q google-cloud-aiplatform"
   ]
  },
  {
   "cell_type": "markdown",
   "metadata": {
    "id": "R5Xep4W9lq-Z"
   },
   "source": [
    "### Restart current runtime\n",
    "\n",
    "To use the newly installed packages in this Jupyter runtime, you must restart the runtime. You can do this by running the cell below, which will restart the current kernel."
   ]
  },
  {
   "cell_type": "code",
   "execution_count": null,
   "metadata": {
    "colab": {
     "base_uri": "https://localhost:8080/"
    },
    "id": "XRvKdaPDTznN",
    "outputId": "154a71b5-f302-4f53-ed2f-b3e5fef9195b",
    "tags": []
   },
   "outputs": [],
   "source": [
    "# Restart kernel after installs so that your environment can access the new packages\n",
    "import IPython\n",
    "\n",
    "app = IPython.Application.instance()\n",
    "app.kernel.do_shutdown(True)"
   ]
  },
  {
   "cell_type": "markdown",
   "metadata": {
    "id": "SbmM4z7FOBpM"
   },
   "source": [
    "<div class=\"alert alert-block alert-warning\">\n",
    "<b>⚠️ The kernel is going to restart. Please wait until it is finished before continuing to the next step. ⚠️</b>\n",
    "</div>\n",
    "\n"
   ]
  },
  {
   "cell_type": "markdown",
   "metadata": {
    "id": "dmWOrTJ3gx13"
   },
   "source": [
    "### Authenticate your notebook environment (Colab only)\n",
    "\n",
    "If you are running this notebook on Google Colab, run the following cell to authenticate your environment. This step is not required if you are using [Vertex AI Workbench](https://cloud.google.com/vertex-ai-workbench).\n"
   ]
  },
  {
   "cell_type": "code",
   "execution_count": null,
   "metadata": {
    "id": "NyKGtVQjgx13",
    "tags": []
   },
   "outputs": [],
   "source": [
    "import sys\n",
    "\n",
    "# Additional authentication is required for Google Colab\n",
    "if \"google.colab\" in sys.modules:\n",
    "    # Authenticate user to Google Cloud\n",
    "    from google.colab import auth\n",
    "\n",
    "    auth.authenticate_user()"
   ]
  },
  {
   "cell_type": "markdown",
   "metadata": {
    "id": "DF4l8DTdWgPY"
   },
   "source": [
    "### Set Google Cloud project information and initialize Vertex AI SDK\n",
    "\n",
    "To get started using Vertex AI, you must have an existing Google Cloud project and [enable the Vertex AI API](https://console.cloud.google.com/flows/enableapi?apiid=aiplatform.googleapis.com).\n",
    "\n",
    "Learn more about [setting up a project and a development environment](https://cloud.google.com/vertex-ai/docs/start/cloud-environment)."
   ]
  },
  {
   "cell_type": "code",
   "execution_count": 1,
   "metadata": {
    "id": "Nqwi-5ufWp_B",
    "tags": []
   },
   "outputs": [],
   "source": [
    "# Define project information\n",
    "PROJECT_ID = \"YOUR_PROJECT_ID\"  # @param {type:\"string\"}\n",
    "LOCATION = \"us-central1\"  # @param {type:\"string\"}\n",
    "\n",
    "# Initialize Vertex AI\n",
    "import vertexai\n",
    "\n",
    "vertexai.init(project=PROJECT_ID, location=LOCATION)"
   ]
  },
  {
   "cell_type": "markdown",
   "metadata": {
    "id": "jXHfaVS66_01"
   },
   "source": [
    "### Import libraries\n"
   ]
  },
  {
   "cell_type": "code",
   "execution_count": 7,
   "metadata": {
    "id": "lslYAvw37JGQ",
    "tags": []
   },
   "outputs": [],
   "source": [
    "from IPython.display import Markdown, display\n",
    "\n",
    "from vertexai.preview.generative_models import (\n",
    "    GenerationConfig,\n",
    "    GenerativeModel,\n",
    "    HarmCategory,\n",
    "    HarmBlockThreshold,\n",
    "    Part,\n",
    ")"
   ]
  },
  {
   "cell_type": "markdown",
   "metadata": {
    "id": "FTMywdzUORIA"
   },
   "source": [
    "### Load the Gemini 1.5 Pro model\n",
    "\n",
    "Gemini 1.5 Pro (`gemini-1.5-pro-preview-0409`) is a multimodal model that supports multimodal prompts. You can include text, image(s), PDFs, audio, and video in your prompt requests and get text or code responses."
   ]
  },
  {
   "cell_type": "code",
   "execution_count": 3,
   "metadata": {
    "id": "lRyTw2iPhEXG",
    "tags": []
   },
   "outputs": [],
   "source": [
    "model = GenerativeModel(\"gemini-1.5-pro-preview-0409\")\n",
    "\n",
    "generation_config = GenerationConfig(temperature=1.0, max_output_tokens=8192)\n",
    "safety_settings = {\n",
    "    HarmCategory.HARM_CATEGORY_DANGEROUS_CONTENT: HarmBlockThreshold.BLOCK_ONLY_HIGH\n",
    "}"
   ]
  },
  {
   "cell_type": "markdown",
   "metadata": {
    "id": "Wy75sLb-yjNn"
   },
   "source": [
    "## Extract Structured Metadata from Sheet Music PDF\n",
    "\n",
    "For this example, we will be using the popular classical music book [24 Italian Songs and Arias of the 17th and 18th Centuries](https://imslp.org/wiki/24_Italian_Songs_and_Arias_of_the_17th_and_18th_Centuries_(Various)), and extracting metadata about each song in the book."
   ]
  },
  {
   "cell_type": "code",
   "execution_count": 4,
   "metadata": {},
   "outputs": [],
   "source": [
    "sheet_music_extraction_prompt = \"\"\"You are an expert in musicology and music history. I am going to give you a book of sheet music. Your task is to output structured metadata about each piece of music. Include the following details: Title, composer with lifetime, Tempo marking, composition year, and a brief description of the piece.\"\"\""
   ]
  },
  {
   "cell_type": "code",
   "execution_count": 9,
   "metadata": {
    "id": "KzqjpEiryjNo",
    "outputId": "77e642f7-f61e-4039-9bb3-47e9901a5d89",
    "tags": []
   },
   "outputs": [
    {
     "data": {
      "text/markdown": [
       "## Twenty-Four Italian Songs and Arias: Metadata\n",
       "\n",
       "**Please note that composition years are not provided in the book, so they are omitted from the metadata below.**\n",
       "\n",
       "**1. Per la gloria d'adorarvi (For the love my heart doth prize)**\n",
       "\n",
       "* Composer: Giovanni Battista Bononcini (1672-1750) \n",
       "* Tempo Marking: Andante (♩ = 80)\n",
       "* Description: An aria from the opera \"Griselda,\" expressing the pain and hopelessness of unrequited love. \n",
       "\n",
       "**2. Amarilli, mia bella (Amarilli, my fair one)**\n",
       "\n",
       "* Composer: Giulio Caccini (1551-1618)\n",
       "* Tempo Marking: Moderato affettuoso (♩ = 88)\n",
       "* Description: A madrigal, pleading with the beloved Amarilli to believe in the singer's true and tender love.\n",
       "\n",
       "**3. Alma del core (Fairest adored)**\n",
       "\n",
       "* Composer: Antonio Caldara (1670-1736)\n",
       "* Tempo Marking: Tempo di Minuetto\n",
       "* Description: A love song in a minuet style, praising the beauty of the beloved and pledging eternal devotion.\n",
       "\n",
       "**4. Come raggio di sol (As on the swelling wave)**\n",
       "\n",
       "* Composer: Antonio Caldara (1670-1736)\n",
       "* Tempo Marking: Sostenuto (♩ = 56)\n",
       "* Description: An aria comparing the fleeting nature of youth and beauty to the movement of waves and the sun's reflection on them.\n",
       "\n",
       "**5. Sebben, crudele (Tho' not deserving)**\n",
       "\n",
       "* Composer: Antonio Caldara (1670-1736)\n",
       "* Tempo Marking: Allegretto grazioso (♩ = 54)\n",
       "* Description: A canzonetta expressing the conflicting emotions of love and resentment towards a cruel and undeserving beloved.\n",
       "\n",
       "**6. Vittoria, mio core! (Victorious my heart is!)**\n",
       "\n",
       "* Composer: Giacomo Carissimi (1605-1674)\n",
       "* Tempo Marking: Allegro con brio (♩. = 168)\n",
       "* Description: A cantata celebrating the triumph of the heart over love's challenges, with a joyous and energetic melody.\n",
       "\n",
       "**7. Danza, danza, fanciulla gentile (Dance, O dance, maiden gay)**\n",
       "\n",
       "* Composer: Francesco Durante (1684-1755)\n",
       "* Tempo Marking: Allegro con spirito (♩ = 138)\n",
       "* Description: A lively arietta inviting a young maiden to dance to the music, with light and playful imagery.\n",
       "\n",
       "**8. Vergin, tutto amor (Virgin, fount of love)**\n",
       "\n",
       "* Composer: Francesco Durante (1684-1755)\n",
       "* Tempo Marking: Largo religioso (♩ = 140)\n",
       "* Description: A prayer to the Virgin Mary, seeking solace and mercy for a sinner's lament.\n",
       "\n",
       "**9. Caro mio ben (Thou, all my bliss)**\n",
       "\n",
       "* Composer: Giuseppe Giordani (Giordanello) (1744-1798)\n",
       "* Tempo Marking: Larghetto (♩ = 60)\n",
       "* Description: An arietta expressing the pain of separation from the beloved, with a tender and melancholic melody.\n",
       "\n",
       "**10. O del mio dolce ardor (O thou belov'd)**\n",
       "\n",
       "* Composer: Christoph Willibald von Gluck (1714-1787)\n",
       "* Tempo Marking: Moderato (♩ = 44)\n",
       "* Description: An aria longing for the beloved, with a yearning melody and expressive dynamics.\n",
       "\n",
       "**11. Che fiero costume (How void of compassion)**\n",
       "\n",
       "* Composer: Giovanni Legrenzi (1626-1690)\n",
       "* Tempo Marking: Allegretto con moto (♩ = 56)\n",
       "* Description: An arietta criticizing Cupid's cruel and heartless ways, highlighting the torment of unrequited love.\n",
       "\n",
       "**12. Pur dicesti, o bocca bella (Mouth so charmful)**\n",
       "\n",
       "* Composer: Antonio Lotti (1667-1740)\n",
       "* Tempo Marking: Allegretto grazioso (♩ = 69)\n",
       "* Description: A playful arietta questioning the beloved about the captivating power of their words and sweetness.\n",
       "\n",
       "**13. Il mio bel foco (My joyful ardor)** \n",
       "\n",
       "* Composer: Benedetto Marcello (1686-1739)\n",
       "* Tempo Marking: (Recitative) followed by Allegretto affettuoso \n",
       "* Description: A recitative and aria expressing unwavering love and devotion, with a passionate and lyrical melody. \n",
       "\n",
       "**14. Non posso disperar (I do not dare despond)**\n",
       "\n",
       "* Composer: S. De Luca (15... - 16...)\n",
       "* Tempo Marking: Andante grazioso (♩ = 80) \n",
       "* Description: An arietta acknowledging the pain of love but finding solace in the hope of eventual happiness.\n",
       "\n",
       "**15. Lasciatemi morire! (No longer let me languish)**\n",
       "\n",
       "* Composer: Claudio Monteverdi (1567-1643)\n",
       "* Tempo Marking: Lento (♩ = 58) \n",
       "* Description: A lament from the opera \"Arianna,\" expressing the despair and anguish of a heartbroken woman. \n"
      ],
      "text/plain": [
       "<IPython.core.display.Markdown object>"
      ]
     },
     "metadata": {},
     "output_type": "display_data"
    }
   ],
   "source": [
    "# Extract the structrued metadata from a Sheet Music PDF\n",
    "\n",
    "# Load file directly from Google Cloud Storage\n",
    "file_part = Part.from_uri(\n",
    "    uri=\"gs://github-repo/use-cases/sheet-music/24ItalianSongs.pdf\",\n",
    "    mime_type=\"application/pdf\",\n",
    ")\n",
    "\n",
    "# Load contents\n",
    "contents = [file_part, sheet_music_extraction_prompt]\n",
    "\n",
    "# Send to Gemini\n",
    "response = model.generate_content(\n",
    "    contents,\n",
    "    generation_config=generation_config,\n",
    "    safety_settings=safety_settings,\n",
    ")\n",
    "\n",
    "# Display results\n",
    "display(Markdown(response.text))"
   ]
  },
  {
   "cell_type": "markdown",
   "metadata": {},
   "source": [
    "You can see that Gemini extracted all of the relevant fields from the document."
   ]
  },
  {
   "cell_type": "markdown",
   "metadata": {},
   "source": [
    "### Song Identification with Audio\n",
    "\n",
    "Now, let's try something more challenging, identifying a song being performed based on the sheet music. We have an audio clip of Holt Skinner performing one of the songs in the book, and we will ask Gemini to identify it based on the sheet music PDF."
   ]
  },
  {
   "cell_type": "code",
   "execution_count": 10,
   "metadata": {},
   "outputs": [],
   "source": [
    "song_identification_prompt = \"\"\"Based on the sheet music PDF, what song is in the audio clip. Explain how you made the decision.\"\"\""
   ]
  },
  {
   "cell_type": "code",
   "execution_count": 12,
   "metadata": {},
   "outputs": [
    {
     "data": {
      "text/markdown": [
       "The song in the audio clip is \"Sebben, crudele\" by Antonio Caldara. \n",
       "\n",
       "This was determined by listening to the audio clip and comparing the melody and lyrics to the sheet music provided. The first page of the PDF document, \"Contents\", shows the titles of the songs and Arias in the book. \"Sebben, crudele\" is on page 19.  Pages 19-22 contain the sheet music for that song. The melody and lyrics in the audio clip are an exact match to the sheet music on these pages."
      ],
      "text/plain": [
       "<IPython.core.display.Markdown object>"
      ]
     },
     "metadata": {},
     "output_type": "display_data"
    }
   ],
   "source": [
    "# Load PDF file\n",
    "pdf_part = Part.from_uri(\n",
    "    uri=\"gs://github-repo/use-cases/sheet-music/24ItalianSongs.pdf\",\n",
    "    mime_type=\"application/pdf\",\n",
    ")\n",
    "\n",
    "audio_part = Part.from_uri(\n",
    "    uri=\"gs://github-repo/use-cases/sheet-music/24ItalianClip.mp3\",\n",
    "    mime_type=\"audio/mpeg\",\n",
    ")\n",
    "\n",
    "# Load contents\n",
    "contents = [pdf_part, audio_part, song_identification_prompt]\n",
    "\n",
    "# Send to Gemini\n",
    "response = model.generate_content(\n",
    "    contents, generation_config=generation_config, safety_settings=safety_settings\n",
    ")\n",
    "\n",
    "# Display results\n",
    "display(Markdown(response.text))"
   ]
  }
 ],
 "metadata": {
  "colab": {
   "provenance": [],
   "toc_visible": true
  },
  "environment": {
   "kernel": "conda-root-py",
   "name": "workbench-notebooks.m115",
   "type": "gcloud",
   "uri": "gcr.io/deeplearning-platform-release/workbench-notebooks:m115"
  },
  "kernelspec": {
   "display_name": "Python 3",
   "language": "python",
   "name": "python3"
  },
  "language_info": {
   "codemirror_mode": {
    "name": "ipython",
    "version": 3
   },
   "file_extension": ".py",
   "mimetype": "text/x-python",
   "name": "python",
   "nbconvert_exporter": "python",
   "pygments_lexer": "ipython3",
   "version": "3.11.0"
  }
 },
 "nbformat": 4,
 "nbformat_minor": 4
}
