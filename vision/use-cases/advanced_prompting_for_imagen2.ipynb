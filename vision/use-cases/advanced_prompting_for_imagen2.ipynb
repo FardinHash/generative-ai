{
 "cells": [
  {
   "cell_type": "code",
   "execution_count": 61,
   "id": "0542b239",
   "metadata": {},
   "outputs": [],
   "source": [
    "# Copyright 2024 Google LLC\n",
    "#\n",
    "# Licensed under the Apache License, Version 2.0 (the \"License\");\n",
    "# you may not use this file except in compliance with the License.\n",
    "# You may obtain a copy of the License at\n",
    "#\n",
    "#     https://www.apache.org/licenses/LICENSE-2.0\n",
    "#\n",
    "# Unless required by applicable law or agreed to in writing, software\n",
    "# distributed under the License is distributed on an \"AS IS\" BASIS,\n",
    "# WITHOUT WARRANTIES OR CONDITIONS OF ANY KIND, either express or implied.\n",
    "# See the License for the specific language governing permissions and\n",
    "# limitations under the License."
   ]
  },
  {
   "cell_type": "markdown",
   "id": "f9c0b056",
   "metadata": {
    "tags": []
   },
   "source": [
    "# Advanced Prompting for ImageGeneration Using Imagen 2\n",
    "\n",
    "<table align=\"left\">\n",
    "  <td style=\"text-align: center\">\n",
    "    <a href=\"https://colab.research.google.com/github/GoogleCloudPlatform/generative-ai/blob/main/vision/use-cases/generative-ai/vision/use-cases/advanced_prompting_for_imagen2.ipynb\">\n",
    "      <img src=\"https://cloud.google.com/ml-engine/images/colab-logo-32px.png\" alt=\"Google Colaboratory logo\"><br> Open in Colab\n",
    "    </a>\n",
    "  </td>\n",
    "  <td style=\"text-align: center\">\n",
    "    <a href=\"https://console.cloud.google.com/vertex-ai/colab/import/https:%2F%2Fraw.githubusercontent.com%2FGoogleCloudPlatform%2Fgenerative-ai%2Fblob%2Fmain%2Fvision%2Fuse-cases%2Fgenerative-ai%2Fvision%2Fuse-cases%2Fadvanced_prompting_for_imagen2.ipynb\">\n",
    "      <img width=\"32px\" src=\"https://lh3.googleusercontent.com/JmcxdQi-qOpctIvWKgPtrzZdJJK-J3sWE1RsfjZNwshCFgE_9fULcNpuXYTilIR2hjwN\" alt=\"Google Cloud Colab Enterprise logo\"><br> Open in Colab Enterprise\n",
    "    </a>\n",
    "  </td>    \n",
    "  <td style=\"text-align: center\">\n",
    "    <a href=\"https://console.cloud.google.com/vertex-ai/workbench/deploy-notebook?download_url=https://raw.githubusercontent.com/GoogleCloudPlatform/generative-ai/blob/main/vision/use-cases/generative-ai/vision/use-cases/advanced_prompting_for_imagen2.ipynb\">\n",
    "      <img src=\"https://lh3.googleusercontent.com/UiNooY4LUgW_oTvpsNhPpQzsstV5W8F7rYgxgGBD85cWJoLmrOzhVs_ksK_vgx40SHs7jCqkTkCk=e14-rj-sc0xffffff-h130-w32\" alt=\"Vertex AI logo\"><br> Open in Workbench\n",
    "    </a>\n",
    "  </td>\n",
    "  <td style=\"text-align: center\">\n",
    "    <a href=\"https://github.com/GoogleCloudPlatform/generative-ai/blob/main/vision/use-cases/generative-ai/vision/use-cases/advanced_prompting_for_imagen2.ipynb\">\n",
    "      <img src=\"https://cloud.google.com/ml-engine/images/github-logo-32px.png\" alt=\"GitHub logo\"><br> View on GitHub\n",
    "    </a>\n",
    "  </td>\n",
    "</table>\n"
   ]
  },
  {
   "cell_type": "markdown",
   "id": "7f89ebbb",
   "metadata": {},
   "source": [
    "| | |\n",
    "|-|-|\n",
    "|Author(s) | [Abhijat Gupta](https://github.com/abhijat-gupta), [Harish Verma](https://github.com/harishverma8) |"
   ]
  },
  {
   "cell_type": "markdown",
   "id": "254969bc",
   "metadata": {
    "tags": []
   },
   "source": [
    "## Overview"
   ]
  },
  {
   "cell_type": "markdown",
   "id": "d55f3b63",
   "metadata": {},
   "source": [
    "### Gemini\n",
    "Gemini is a family of generative AI models developed by Google DeepMind that is designed for multimodal use cases. The Gemini API gives you access to the Gemini Pro and Gemini Pro Vision models."
   ]
  },
  {
   "cell_type": "markdown",
   "id": "33516e34",
   "metadata": {},
   "source": [
    "### Vertex AI Gemini API\n",
    "The Vertex AI Gemini API provides a unified interface for interacting with Gemini models. There are two Gemini 1.0 Pro models available in the Gemini API:\n",
    "\n",
    "**Gemini 1.0 Pro model** (gemini-1.0-pro): Designed to handle natural language tasks, multi-turn text and code chat, and code generation.\n",
    "**Gemini 1.0 Pro Vision model** (gemini-1.0-pro-vision): Supports multimodal prompts. You can include text, images, and video in your prompt requests and get text or code responses.\n",
    "You can interact with the Gemini API using the following methods:\n",
    "\n",
    "- Use [Vertex AI Studio](https://cloud.google.com/generative-ai-studio?hl=en) for quick testing and command generation\n",
    "- Use cURL commands\n",
    "- Use the Vertex AI SDK\n",
    "\n",
    "This notebook focuses on using the Vertex AI SDK for Python to call the Vertex AI Gemini API.\n",
    "\n",
    "For more information, see the [Generative AI on Vertex AI](https://cloud.google.com/vertex-ai/generative-ai/docs/learn/overview) documentation."
   ]
  },
  {
   "cell_type": "markdown",
   "id": "3e046dc7",
   "metadata": {
    "tags": []
   },
   "source": [
    "## Objective\n",
    "\n",
    "AI image generation opens a world of visual possibilities, but unleashing its true power requires a touch of finesse. If you're ready to move beyond simple prompts and take creative control, this notebook is for you. We'll explore advanced prompting techniques that will transform the way you generate images with AI.\n",
    "\n",
    "The notebook demonstrates the usage of Gemini to enhance the prompt, which will then be consumed by Imagen 2. This enhancement will add supporting props and details to the user single liner prompts. We also sometimes want to generate images with a custom set of colors, this notebook helps you to achieve that through prompting. We also, at times, need to include styling to the generated images, like ligh conditions, lens positioning, people dressing styles, skin-tones, backgrounds, etc., this notebook also enables you provide such custom styles through pure test prompting.\n",
    "\n",
    "### Prompt Enhancement\n",
    "\n",
    "Enhance basic one liner prompts using Gemini to create more detailed and complete prompts\n",
    "\n",
    "### Using Hex color codes in Prompts\n",
    "\n",
    "We can pass the hex values of the colors that we wish to see in the generated images\n",
    "\n",
    "- Use `custom_color_palette` flag, set it to `True` if you wish to provide your color palette\n",
    "\n",
    "### Styling your image with text prompts\n",
    "\n",
    "- We can pass styles and append it to the original prompt with a **\",\"** (comma)\n",
    "- Styles can contain of type of people, their dressing, their skin tone, etc.\n",
    "- Styles can also contain details of the background and environment.\n",
    "- Example:\n",
    "\n",
    "    ```\n",
    "    'your_style_1': {\n",
    "        'persona': 'people dressed in business casuals with warm toned skin, showing positive charisma and healthy lifestyle',\n",
    "        'environment': 'saturated, pleasant, true to life, focused'\n",
    "    }\n",
    "    ```"
   ]
  },
  {
   "cell_type": "markdown",
   "id": "2537d265",
   "metadata": {},
   "source": [
    "## Costs\n",
    "\n",
    "This tutorial uses the following billable components of Google Cloud:\n",
    "- Vertex AI (Gemini 1.0 Pro, Imagen 2)\n",
    "\n",
    "Learn about [Vertex AI Generative AI pricing](https://cloud.google.com/vertex-ai/generative-ai/pricing) and use the [Pricing Calculator](https://cloud.google.com/products/calculator/) to generate a cost estimate based on your projected usage."
   ]
  },
  {
   "cell_type": "markdown",
   "id": "5cfb361c",
   "metadata": {
    "tags": []
   },
   "source": [
    "## Getting Started"
   ]
  },
  {
   "cell_type": "markdown",
   "id": "e7d732df",
   "metadata": {
    "tags": []
   },
   "source": [
    "### Install Vertex AI SDK for Python"
   ]
  },
  {
   "cell_type": "code",
   "execution_count": 155,
   "id": "16803df5",
   "metadata": {
    "tags": []
   },
   "outputs": [],
   "source": [
    "! pip install -q --upgrade google-cloud-aiplatform"
   ]
  },
  {
   "cell_type": "markdown",
   "id": "0675bf83",
   "metadata": {
    "tags": []
   },
   "source": [
    "## Restart current runtime\n",
    "To use the newly installed packages in this Jupyter runtime, you must restart the runtime. You can do this by running the cell below, which will restart the current kernel."
   ]
  },
  {
   "cell_type": "code",
   "execution_count": 64,
   "id": "9d2118c9",
   "metadata": {},
   "outputs": [],
   "source": [
    "import sys\n",
    "\n",
    "if \"google.colab\" in sys.modules:\n",
    "    import IPython\n",
    "\n",
    "    app = IPython.Application.instance()\n",
    "    app.kernel.do_shutdown(True)"
   ]
  },
  {
   "cell_type": "markdown",
   "id": "d341776a",
   "metadata": {},
   "source": [
    "### Authenticate your notebook environment (Colab only)\n",
    "\n",
    "If you are running this notebook on Google Colab, run the following cell to authenticate your environment. This step is not required if you are using [Vertex AI Workbench](https://cloud.google.com/vertex-ai-notebooks?hl=en).\n"
   ]
  },
  {
   "cell_type": "code",
   "execution_count": null,
   "id": "e55ea059",
   "metadata": {},
   "outputs": [],
   "source": [
    "import sys\n",
    "\n",
    "if \"google.colab\" in sys.modules:\n",
    "    from google.colab import auth\n",
    "\n",
    "    auth.authenticate_user()"
   ]
  },
  {
   "cell_type": "markdown",
   "id": "82a0fa03",
   "metadata": {},
   "source": [
    "### Set Google Cloud project information and initialize Vertex AI SDK\n",
    "To get started using Vertex AI, you must have an existing Google Cloud project and [enable the Vertex AI API](https://pantheon.corp.google.com/apis/enableflow?apiid=aiplatform.googleapis.com&e=13802955&mods=dm_deploy_from_gcs).\n",
    "\n",
    "Learn more about [setting up a project and a development environment](https://cloud.google.com/vertex-ai/docs/start/cloud-environment)."
   ]
  },
  {
   "cell_type": "code",
   "execution_count": 156,
   "id": "466ad94f",
   "metadata": {
    "tags": []
   },
   "outputs": [],
   "source": [
    "PROJECT_ID = \"your-project-id\"  # @param {type:\"string\"}\n",
    "LOCATION = \"us-central1\"  # @param {type:\"string\"}\n",
    "\n",
    "# Initialize Vertex AI\n",
    "import vertexai\n",
    "\n",
    "vertexai.init(project=PROJECT_ID, location=LOCATION)"
   ]
  },
  {
   "cell_type": "markdown",
   "id": "48c09d98",
   "metadata": {},
   "source": [
    "### Default parameters"
   ]
  },
  {
   "cell_type": "code",
   "execution_count": 182,
   "id": "0e9b9770",
   "metadata": {
    "tags": []
   },
   "outputs": [],
   "source": [
    "DEFAULT_STYLE = \"no_style\"\n",
    "DEFAULT_PROMPT = \"a dog wearing sunglasses on a surfboard\"\n",
    "DEFAULT_ASPECT_RATIO = \"1:1\"\n",
    "DEFAULT_RESOLUTION = \"1536\"\n",
    "DEFAULT_FORMAT = \"jpeg\""
   ]
  },
  {
   "cell_type": "markdown",
   "id": "88f45a0a",
   "metadata": {
    "tags": []
   },
   "source": [
    "### Model config\n",
    "\n",
    "- Providing the current versions for gemini and imagen models.\n",
    "- Please update this config as per your requirements"
   ]
  },
  {
   "cell_type": "code",
   "execution_count": 183,
   "id": "ceb7bc33",
   "metadata": {
    "tags": []
   },
   "outputs": [],
   "source": [
    "GEMINI_MODEL_PRO = \"gemini-1.0-pro-001\"\n",
    "VISION_MODEL = \"imagegeneration@006\"\n",
    "\n",
    "## Imagen2 configs\n",
    "ASPECT_RATIOS = [\"1:1\", \"9:16\"]\n",
    "IMAGE_FORMATS = [\"jpg\", \"jpeg\", \"png\"]\n",
    "NUMBER_OF_IMAGES = 4\n",
    "GUIDANCE_SCALE = 90\n",
    "SEED = 915"
   ]
  },
  {
   "cell_type": "markdown",
   "id": "ca77dcfd",
   "metadata": {},
   "source": [
    "### Color palette\n",
    "\n",
    "Try your own colors. We can pass any hex color code to this palette and see the difference in results.\n",
    "\n",
    "- Keep `custom_color_palette` flag as `False` if you want Gemini to enhance the user input."
   ]
  },
  {
   "cell_type": "code",
   "execution_count": 184,
   "id": "fd0edfc1",
   "metadata": {
    "tags": []
   },
   "outputs": [],
   "source": [
    "COLOR_PALETTE = \"[#000000, #FFFFFF, #71767C, #ED0007, #9E2896, #007BC0, #18837E, #00884A, #C535BC, #007BC0, #18837E, #00884A]\"\n",
    "custom_color_palette = False"
   ]
  },
  {
   "cell_type": "markdown",
   "id": "d28ce885",
   "metadata": {},
   "source": [
    "### Example styles"
   ]
  },
  {
   "cell_type": "code",
   "execution_count": 185,
   "id": "7e3a711c",
   "metadata": {
    "tags": []
   },
   "outputs": [],
   "source": [
    "# example styles\n",
    "STYLES = {\n",
    "    \"no_style\": {\n",
    "        \"persona\": \"people dressed as per the requirement, showing positive charisma and healthy lifestyle\",\n",
    "        \"environment\": \"saturated, true to life, realistic, extremely detailed\",\n",
    "    },\n",
    "    \"corporate\": {\n",
    "        \"persona\": \"people dressed in business casuals with warm toned skin, showing positive charisma and healthy lifestyle\",\n",
    "        \"environment\": \"saturated, pleasant, true to life, focused\",\n",
    "    },\n",
    "    \"healthcare_solutions\": {\n",
    "        \"persona\": \"warm toned people\",\n",
    "        \"environment\": \"more white backgrounds, clean surroundings, realistic, focused, depth of field, blue and turqoise colors\",\n",
    "    },\n",
    "    \"home_appliances\": {\n",
    "        \"persona\": \"warm toned people dressed casually, showing positive charisma and healthy lifestyle\",\n",
    "        \"environment\": \"pastel color backgrounds, realistic, focused, depth of field\",\n",
    "    },\n",
    "}"
   ]
  },
  {
   "cell_type": "markdown",
   "id": "ab316cdc",
   "metadata": {
    "tags": []
   },
   "source": [
    "### Importing libraries"
   ]
  },
  {
   "cell_type": "code",
   "execution_count": 186,
   "id": "ad0fcc0f",
   "metadata": {
    "tags": []
   },
   "outputs": [],
   "source": [
    "from typing import Dict\n",
    "from vertexai.preview.vision_models import ImageGenerationModel\n",
    "from vertexai.generative_models import GenerativeModel"
   ]
  },
  {
   "cell_type": "markdown",
   "id": "258782dc",
   "metadata": {},
   "source": [
    "### Prompt prefix"
   ]
  },
  {
   "cell_type": "code",
   "execution_count": 187,
   "id": "6f4e189d",
   "metadata": {
    "tags": []
   },
   "outputs": [],
   "source": [
    "prompt_prefix = \"\"\"You are an expert in writing prompts for image generation model and have immense knowledge of photography, based on user_prompt and settings, generate a 150 words prompt adding supporting props to the image subject, but do NOT add too much information, keep it on the simpler side. Add \"a photo of\" prefix to every prompt.\n",
    "                Use below settings for generating the image:\n",
    "                - Brightness: [90]\n",
    "                - Persona: {style[\"persona\"]}\n",
    "                - Environment: {style[\"environment\"]}\n",
    "                Scenario: {user_prompt}\n",
    "                \"\"\""
   ]
  },
  {
   "cell_type": "markdown",
   "id": "11d4a733",
   "metadata": {},
   "source": [
    "### Flag for enhanced prompting\n",
    "\n",
    "- Change it to `False` to stop Gemini enhancement and use the user's input as the prompt for Imagen"
   ]
  },
  {
   "cell_type": "code",
   "execution_count": 188,
   "id": "6be0c957",
   "metadata": {
    "tags": []
   },
   "outputs": [],
   "source": [
    "enable_enhanced_prompting = True"
   ]
  },
  {
   "cell_type": "markdown",
   "id": "bc02c149",
   "metadata": {},
   "source": [
    "### Request\n",
    " JSON request with all the required parameters which can come from a user"
   ]
  },
  {
   "cell_type": "code",
   "execution_count": 189,
   "id": "bf9a59a7",
   "metadata": {
    "tags": []
   },
   "outputs": [],
   "source": [
    "request_json = {\n",
    "    \"request_type\": \"image_generation\",\n",
    "    \"style\": \"home_appliances\",\n",
    "    \"prompt\": \"A happy woman in the kitchen working with a mixer\",\n",
    "    \"aspect_ratio\": \"9:16\",\n",
    "    \"disable_advanced_prompting\": True,\n",
    "    \"custom_color_palette\": False,\n",
    "    \"image_format\": \"jpeg\",\n",
    "}"
   ]
  },
  {
   "cell_type": "code",
   "execution_count": 190,
   "id": "bb9da252",
   "metadata": {
    "tags": []
   },
   "outputs": [
    {
     "name": "stdout",
     "output_type": "stream",
     "text": [
      "user provided request: ({'persona': 'warm toned people dressed casually, showing positive charisma and healthy lifestyle', 'environment': 'pastel color backgrounds, realistic, focused, depth of field'}, 'A happy woman in the kitchen working with a mixer', '9:16', '1536', 'jpeg')\n",
      "\n",
      "\n",
      "Prompt provided to enhance: You are an expert in writing prompts for image generation model and have immense knowledge of photography, based on user_prompt and settings, generate a 150 words prompt adding supporting props to the image subject, but do NOT add too much information, keep it on the simpler side. Add \"a photo of\" prefix to every prompt.\n",
      "                Use below settings for generating the image:\n",
      "                - Brightness: [90]\n",
      "                - Persona: {style[\"persona\"]}\n",
      "                - Environment: {style[\"environment\"]}\n",
      "                Scenario: {user_prompt}\n",
      "                \n",
      "            Prompt:\n",
      "            \n",
      "prompt generated by Gemini: a photo of a young woman sitting on a bench in a park, a man walking his dog in the background, bright sunny day\n"
     ]
    }
   ],
   "source": [
    "def parse_json(request_json: Dict[str, str]) -> tuple[str, str, str, str, str]:\n",
    "    \"\"\"Parses JSON request from user.\"\"\"\n",
    "    style = STYLES.get(request_json.get(\"style\"), DEFAULT_STYLE)\n",
    "    user_prompt = request_json.get(\"prompt\", DEFAULT_PROMPT)\n",
    "    aspect_ratio_provided = request_json.get(\"aspect_ratio\", DEFAULT_ASPECT_RATIO)\n",
    "    resolution = request_json.get(\"resolution\", DEFAULT_RESOLUTION)\n",
    "    image_format = request_json.get(\"image_format\", DEFAULT_FORMAT)\n",
    "\n",
    "    return style, user_prompt, aspect_ratio_provided, resolution, image_format\n",
    "\n",
    "\n",
    "def generate_enhanced_prompt(user_prompt: str) -> str:\n",
    "    \"\"\"Generates enhanced prompt using text LLMs.\"\"\"\n",
    "    if enable_enhanced_prompting is True:\n",
    "        if custom_color_palette:\n",
    "            prompt_for_imagen = f\"\"\"{prompt_prefix}\n",
    "            - Color palette : {COLOR_PALETTE}\n",
    "            Prompt:\n",
    "            \"\"\"\n",
    "        else:\n",
    "            prompt_for_imagen = f\"\"\"{prompt_prefix}\n",
    "            Prompt:\n",
    "            \"\"\"\n",
    "    else:\n",
    "        prompt_for_imagen = user_prompt\n",
    "\n",
    "    print(f\"Prompt provided to enhance: {prompt_for_imagen}\")\n",
    "\n",
    "    # Generate Imagen prompt using gemini-pro model\n",
    "    gemini = GenerativeModel(GEMINI_MODEL_PRO)\n",
    "\n",
    "    img_gen_prompt_gemini = gemini.generate_content(\n",
    "        prompt_for_imagen,\n",
    "    )\n",
    "    return img_gen_prompt_gemini.text\n",
    "\n",
    "\n",
    "def generate_images(\n",
    "    gemini_prompt: str,\n",
    ") -> vertexai.preview.vision_models.ImageGenerationResponse:\n",
    "    \"\"\"Generates images using imagen@005.\"\"\"\n",
    "    image_model = ImageGenerationModel.from_pretrained(VISION_MODEL)\n",
    "\n",
    "    prompt = gemini_prompt\n",
    "\n",
    "    images = image_model.generate_images(\n",
    "        prompt=prompt,\n",
    "        number_of_images=NUMBER_OF_IMAGES,\n",
    "        seed=SEED,\n",
    "        guidance_scale=GUIDANCE_SCALE,\n",
    "        add_watermark=False,\n",
    "    )\n",
    "    return images\n",
    "\n",
    "\n",
    "style, user_prompt, aspect_ratio_provided, resolution, image_format = parse_json(\n",
    "    request_json\n",
    ")\n",
    "\n",
    "print(\n",
    "    f\"user provided request: {(style, user_prompt, aspect_ratio_provided, resolution, image_format)}\"\n",
    ")\n",
    "print(\"\\n\")\n",
    "\n",
    "gemini_prompt = generate_enhanced_prompt(user_prompt)\n",
    "\n",
    "print(f\"prompt generated by Gemini: {gemini_prompt}\")\n",
    "\n",
    "results = generate_images(gemini_prompt)"
   ]
  },
  {
   "cell_type": "markdown",
   "id": "e7c8e2f6",
   "metadata": {},
   "source": [
    "## View generated images"
   ]
  },
  {
   "cell_type": "code",
   "execution_count": 191,
   "id": "e5df64ff",
   "metadata": {
    "tags": []
   },
   "outputs": [],
   "source": [
    "for result in results:\n",
    "    result.show()\n",
    "    break"
   ]
  }
 ],
 "metadata": {
  "environment": {
   "kernel": "python3",
   "name": "tf2-cpu.2-11.m118",
   "type": "gcloud",
   "uri": "us-docker.pkg.dev/deeplearning-platform-release/gcr.io/tf2-cpu.2-11:m118"
  },
  "kernelspec": {
   "display_name": "Python 3 (Local)",
   "language": "python",
   "name": "python3"
  },
  "language_info": {
   "codemirror_mode": {
    "name": "ipython",
    "version": 3
   },
   "file_extension": ".py",
   "mimetype": "text/x-python",
   "name": "python",
   "nbconvert_exporter": "python",
   "pygments_lexer": "ipython3",
   "version": "3.10.13"
  }
 },
 "nbformat": 4,
 "nbformat_minor": 5
}
